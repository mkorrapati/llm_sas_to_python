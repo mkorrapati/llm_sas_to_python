{
 "cells": [
  {
   "cell_type": "markdown",
   "metadata": {},
   "source": [
    "## SAS Function to Python using GenAI"
   ]
  },
  {
   "cell_type": "markdown",
   "metadata": {},
   "source": [
    "### Problem Statement"
   ]
  },
  {
   "cell_type": "code",
   "execution_count": 1,
   "metadata": {},
   "outputs": [
    {
     "name": "stdout",
     "output_type": "stream",
     "text": [
      "Requirement already satisfied: scikit-learn in c:\\users\\326338\\projects\\llm_sas_to_python\\.venv\\lib\\site-packages (1.3.2)\n",
      "Requirement already satisfied: numpy<2.0,>=1.17.3 in c:\\users\\326338\\projects\\llm_sas_to_python\\.venv\\lib\\site-packages (from scikit-learn) (1.26.2)\n",
      "Requirement already satisfied: scipy>=1.5.0 in c:\\users\\326338\\projects\\llm_sas_to_python\\.venv\\lib\\site-packages (from scikit-learn) (1.11.4)\n",
      "Requirement already satisfied: joblib>=1.1.1 in c:\\users\\326338\\projects\\llm_sas_to_python\\.venv\\lib\\site-packages (from scikit-learn) (1.3.2)\n",
      "Requirement already satisfied: threadpoolctl>=2.0.0 in c:\\users\\326338\\projects\\llm_sas_to_python\\.venv\\lib\\site-packages (from scikit-learn) (3.2.0)\n",
      "Note: you may need to restart the kernel to use updated packages.\n"
     ]
    },
    {
     "name": "stderr",
     "output_type": "stream",
     "text": [
      "\n",
      "[notice] A new release of pip is available: 23.2.1 -> 23.3.1\n",
      "[notice] To update, run: python.exe -m pip install --upgrade pip\n"
     ]
    },
    {
     "name": "stdout",
     "output_type": "stream",
     "text": [
      "Collecting openai\n",
      "  Obtaining dependency information for openai from https://files.pythonhosted.org/packages/3e/d3/309769dad11d5f75b81c7252d9dc849ed440d0921215e759af169054f3b6/openai-1.3.7-py3-none-any.whl.metadata\n",
      "  Downloading openai-1.3.7-py3-none-any.whl.metadata (17 kB)\n",
      "Collecting anyio<4,>=3.5.0 (from openai)\n",
      "  Obtaining dependency information for anyio<4,>=3.5.0 from https://files.pythonhosted.org/packages/19/24/44299477fe7dcc9cb58d0a57d5a7588d6af2ff403fdd2d47a246c91a3246/anyio-3.7.1-py3-none-any.whl.metadata\n",
      "  Downloading anyio-3.7.1-py3-none-any.whl.metadata (4.7 kB)\n",
      "Collecting distro<2,>=1.7.0 (from openai)\n",
      "  Downloading distro-1.8.0-py3-none-any.whl (20 kB)\n",
      "Collecting httpx<1,>=0.23.0 (from openai)\n",
      "  Obtaining dependency information for httpx<1,>=0.23.0 from https://files.pythonhosted.org/packages/a2/65/6940eeb21dcb2953778a6895281c179efd9100463ff08cb6232bb6480da7/httpx-0.25.2-py3-none-any.whl.metadata\n",
      "  Downloading httpx-0.25.2-py3-none-any.whl.metadata (6.9 kB)\n",
      "Collecting pydantic<3,>=1.9.0 (from openai)\n",
      "  Obtaining dependency information for pydantic<3,>=1.9.0 from https://files.pythonhosted.org/packages/0a/2b/64066de1c4cf3d4ed623beeb3bbf3f8d0cc26661f1e7d180ec5eb66b75a5/pydantic-2.5.2-py3-none-any.whl.metadata\n",
      "  Downloading pydantic-2.5.2-py3-none-any.whl.metadata (65 kB)\n",
      "     ---------------------------------------- 0.0/65.2 kB ? eta -:--:--\n",
      "     ----------------------- -------------- 41.0/65.2 kB 991.0 kB/s eta 0:00:01\n",
      "     -------------------------------------- 65.2/65.2 kB 886.6 kB/s eta 0:00:00\n",
      "Collecting sniffio (from openai)\n",
      "  Downloading sniffio-1.3.0-py3-none-any.whl (10 kB)\n",
      "Collecting tqdm>4 (from openai)\n",
      "  Obtaining dependency information for tqdm>4 from https://files.pythonhosted.org/packages/00/e5/f12a80907d0884e6dff9c16d0c0114d81b8cd07dc3ae54c5e962cc83037e/tqdm-4.66.1-py3-none-any.whl.metadata\n",
      "  Downloading tqdm-4.66.1-py3-none-any.whl.metadata (57 kB)\n",
      "     ---------------------------------------- 0.0/57.6 kB ? eta -:--:--\n",
      "     ---------------------------------------- 57.6/57.6 kB 1.0 MB/s eta 0:00:00\n",
      "Collecting typing-extensions<5,>=4.5 (from openai)\n",
      "  Obtaining dependency information for typing-extensions<5,>=4.5 from https://files.pythonhosted.org/packages/24/21/7d397a4b7934ff4028987914ac1044d3b7d52712f30e2ac7a2ae5bc86dd0/typing_extensions-4.8.0-py3-none-any.whl.metadata\n",
      "  Downloading typing_extensions-4.8.0-py3-none-any.whl.metadata (3.0 kB)\n",
      "Collecting idna>=2.8 (from anyio<4,>=3.5.0->openai)\n",
      "  Obtaining dependency information for idna>=2.8 from https://files.pythonhosted.org/packages/c2/e7/a82b05cf63a603df6e68d59ae6a68bf5064484a0718ea5033660af4b54a9/idna-3.6-py3-none-any.whl.metadata\n",
      "  Downloading idna-3.6-py3-none-any.whl.metadata (9.9 kB)\n",
      "Collecting certifi (from httpx<1,>=0.23.0->openai)\n",
      "  Obtaining dependency information for certifi from https://files.pythonhosted.org/packages/64/62/428ef076be88fa93716b576e4a01f919d25968913e817077a386fcbe4f42/certifi-2023.11.17-py3-none-any.whl.metadata\n",
      "  Downloading certifi-2023.11.17-py3-none-any.whl.metadata (2.2 kB)\n",
      "Collecting httpcore==1.* (from httpx<1,>=0.23.0->openai)\n",
      "  Obtaining dependency information for httpcore==1.* from https://files.pythonhosted.org/packages/56/ba/78b0a99c4da0ff8b0f59defa2f13ca4668189b134bd9840b6202a93d9a0f/httpcore-1.0.2-py3-none-any.whl.metadata\n",
      "  Downloading httpcore-1.0.2-py3-none-any.whl.metadata (20 kB)\n",
      "Collecting h11<0.15,>=0.13 (from httpcore==1.*->httpx<1,>=0.23.0->openai)\n",
      "  Downloading h11-0.14.0-py3-none-any.whl (58 kB)\n",
      "     ---------------------------------------- 0.0/58.3 kB ? eta -:--:--\n",
      "     ------- -------------------------------- 10.2/58.3 kB ? eta -:--:--\n",
      "     -------------------------------------- 58.3/58.3 kB 762.2 kB/s eta 0:00:00\n",
      "Collecting annotated-types>=0.4.0 (from pydantic<3,>=1.9.0->openai)\n",
      "  Obtaining dependency information for annotated-types>=0.4.0 from https://files.pythonhosted.org/packages/28/78/d31230046e58c207284c6b2c4e8d96e6d3cb4e52354721b944d3e1ee4aa5/annotated_types-0.6.0-py3-none-any.whl.metadata\n",
      "  Downloading annotated_types-0.6.0-py3-none-any.whl.metadata (12 kB)\n",
      "Collecting pydantic-core==2.14.5 (from pydantic<3,>=1.9.0->openai)\n",
      "  Obtaining dependency information for pydantic-core==2.14.5 from https://files.pythonhosted.org/packages/60/5a/3161e1a1c138407cd2037b12ecdbe29f4890ccda1c0a0be69438c7d0065d/pydantic_core-2.14.5-cp312-none-win_amd64.whl.metadata\n",
      "  Downloading pydantic_core-2.14.5-cp312-none-win_amd64.whl.metadata (6.6 kB)\n",
      "Requirement already satisfied: colorama in c:\\users\\326338\\projects\\llm_sas_to_python\\.venv\\lib\\site-packages (from tqdm>4->openai) (0.4.6)\n",
      "Downloading openai-1.3.7-py3-none-any.whl (221 kB)\n",
      "   ---------------------------------------- 0.0/221.4 kB ? eta -:--:--\n",
      "   --- ----------------------------------- 20.5/221.4 kB 330.3 kB/s eta 0:00:01\n",
      "   --------- ----------------------------- 51.2/221.4 kB 660.6 kB/s eta 0:00:01\n",
      "   ------------------------- -------------- 143.4/221.4 kB 1.1 MB/s eta 0:00:01\n",
      "   -------------------------------------- - 215.0/221.4 kB 1.2 MB/s eta 0:00:01\n",
      "   ---------------------------------------- 221.4/221.4 kB 1.1 MB/s eta 0:00:00\n",
      "Downloading anyio-3.7.1-py3-none-any.whl (80 kB)\n",
      "   ---------------------------------------- 0.0/80.9 kB ? eta -:--:--\n",
      "   ---------------------------------------- 80.9/80.9 kB 2.3 MB/s eta 0:00:00\n",
      "Downloading httpx-0.25.2-py3-none-any.whl (74 kB)\n",
      "   ---------------------------------------- 0.0/75.0 kB ? eta -:--:--\n",
      "   ---------- ----------------------------- 20.5/75.0 kB 320.0 kB/s eta 0:00:01\n",
      "   ---------------------------------------- 75.0/75.0 kB 688.7 kB/s eta 0:00:00\n",
      "Downloading httpcore-1.0.2-py3-none-any.whl (76 kB)\n",
      "   ---------------------------------------- 0.0/76.9 kB ? eta -:--:--\n",
      "   ---------------------------------------- 76.9/76.9 kB 2.2 MB/s eta 0:00:00\n",
      "Downloading pydantic-2.5.2-py3-none-any.whl (381 kB)\n",
      "   ---------------------------------------- 0.0/381.9 kB ? eta -:--:--\n",
      "   -- ------------------------------------ 20.5/381.9 kB 682.7 kB/s eta 0:00:01\n",
      "   -------- ------------------------------ 81.9/381.9 kB 919.0 kB/s eta 0:00:01\n",
      "   ------------------- -------------------- 184.3/381.9 kB 1.4 MB/s eta 0:00:01\n",
      "   ------------------------- -------------- 245.8/381.9 kB 1.3 MB/s eta 0:00:01\n",
      "   ---------------------------- ----------- 276.5/381.9 kB 1.3 MB/s eta 0:00:01\n",
      "   ---------------------------------------  378.9/381.9 kB 1.3 MB/s eta 0:00:01\n",
      "   ---------------------------------------- 381.9/381.9 kB 1.3 MB/s eta 0:00:00\n",
      "Downloading pydantic_core-2.14.5-cp312-none-win_amd64.whl (1.9 MB)\n",
      "   ---------------------------------------- 0.0/1.9 MB ? eta -:--:--\n",
      "   -- ------------------------------------- 0.1/1.9 MB 2.4 MB/s eta 0:00:01\n",
      "   ----- ---------------------------------- 0.2/1.9 MB 2.5 MB/s eta 0:00:01\n",
      "   ------- -------------------------------- 0.3/1.9 MB 2.4 MB/s eta 0:00:01\n",
      "   --------- ------------------------------ 0.5/1.9 MB 2.6 MB/s eta 0:00:01\n",
      "   ----------- ---------------------------- 0.5/1.9 MB 2.5 MB/s eta 0:00:01\n",
      "   ------------ --------------------------- 0.6/1.9 MB 2.1 MB/s eta 0:00:01\n",
      "   ------------- -------------------------- 0.7/1.9 MB 2.1 MB/s eta 0:00:01\n",
      "   ---------------- ----------------------- 0.8/1.9 MB 2.1 MB/s eta 0:00:01\n",
      "   ------------------ --------------------- 0.8/1.9 MB 2.0 MB/s eta 0:00:01\n",
      "   ------------------- -------------------- 0.9/1.9 MB 2.0 MB/s eta 0:00:01\n",
      "   ---------------------- ----------------- 1.1/1.9 MB 2.0 MB/s eta 0:00:01\n",
      "   ----------------------- ---------------- 1.1/1.9 MB 1.9 MB/s eta 0:00:01\n",
      "   ------------------------- -------------- 1.2/1.9 MB 2.0 MB/s eta 0:00:01\n",
      "   ------------------------- -------------- 1.2/1.9 MB 2.0 MB/s eta 0:00:01\n",
      "   ------------------------- -------------- 1.2/1.9 MB 2.0 MB/s eta 0:00:01\n",
      "   ------------------------- -------------- 1.2/1.9 MB 2.0 MB/s eta 0:00:01\n",
      "   ------------------------- -------------- 1.2/1.9 MB 2.0 MB/s eta 0:00:01\n",
      "   ------------------------- -------------- 1.2/1.9 MB 2.0 MB/s eta 0:00:01\n",
      "   ------------------------- -------------- 1.2/1.9 MB 2.0 MB/s eta 0:00:01\n",
      "   ------------------------- -------------- 1.2/1.9 MB 2.0 MB/s eta 0:00:01\n",
      "   -------------------------- ------------- 1.2/1.9 MB 1.3 MB/s eta 0:00:01\n",
      "   -------------------------------------- - 1.8/1.9 MB 1.7 MB/s eta 0:00:01\n",
      "   ---------------------------------------- 1.9/1.9 MB 1.8 MB/s eta 0:00:00\n",
      "Downloading tqdm-4.66.1-py3-none-any.whl (78 kB)\n",
      "   ---------------------------------------- 0.0/78.3 kB ? eta -:--:--\n",
      "   ---------- ----------------------------- 20.5/78.3 kB 682.7 kB/s eta 0:00:01\n",
      "   ------------------------------------ --- 71.7/78.3 kB 787.7 kB/s eta 0:00:01\n",
      "   ---------------------------------------- 78.3/78.3 kB 731.4 kB/s eta 0:00:00\n",
      "Downloading typing_extensions-4.8.0-py3-none-any.whl (31 kB)\n",
      "Downloading annotated_types-0.6.0-py3-none-any.whl (12 kB)\n",
      "Downloading idna-3.6-py3-none-any.whl (61 kB)\n",
      "   ---------------------------------------- 0.0/61.6 kB ? eta -:--:--\n",
      "   ---------------------------------------- 61.6/61.6 kB ? eta 0:00:00\n",
      "Downloading certifi-2023.11.17-py3-none-any.whl (162 kB)\n",
      "   ---------------------------------------- 0.0/162.5 kB ? eta -:--:--\n",
      "   ------------ --------------------------- 51.2/162.5 kB 1.3 MB/s eta 0:00:01\n",
      "   -------------- ------------------------ 61.4/162.5 kB 656.4 kB/s eta 0:00:01\n",
      "   ------------------- ------------------- 81.9/162.5 kB 919.0 kB/s eta 0:00:01\n",
      "   ----------------------- -------------- 102.4/162.5 kB 653.6 kB/s eta 0:00:01\n",
      "   -------------------------------------- 162.5/162.5 kB 750.2 kB/s eta 0:00:00\n",
      "Installing collected packages: typing-extensions, tqdm, sniffio, idna, h11, distro, certifi, annotated-types, pydantic-core, httpcore, anyio, pydantic, httpx, openai\n",
      "Successfully installed annotated-types-0.6.0 anyio-3.7.1 certifi-2023.11.17 distro-1.8.0 h11-0.14.0 httpcore-1.0.2 httpx-0.25.2 idna-3.6 openai-1.3.7 pydantic-2.5.2 pydantic-core-2.14.5 sniffio-1.3.0 tqdm-4.66.1 typing-extensions-4.8.0\n",
      "Note: you may need to restart the kernel to use updated packages.\n"
     ]
    },
    {
     "name": "stderr",
     "output_type": "stream",
     "text": [
      "\n",
      "[notice] A new release of pip is available: 23.2.1 -> 23.3.1\n",
      "[notice] To update, run: python.exe -m pip install --upgrade pip\n"
     ]
    }
   ],
   "source": [
    "%pip install scikit-learn\n",
    "%pip install openai"
   ]
  },
  {
   "cell_type": "code",
   "execution_count": 2,
   "metadata": {},
   "outputs": [],
   "source": [
    "import pandas as pd\n",
    "import openai"
   ]
  },
  {
   "cell_type": "code",
   "execution_count": null,
   "metadata": {},
   "outputs": [],
   "source": [
    "openai.api_key = \"your_api_key_here\""
   ]
  }
 ],
 "metadata": {
  "kernelspec": {
   "display_name": ".venv",
   "language": "python",
   "name": "python3"
  },
  "language_info": {
   "codemirror_mode": {
    "name": "ipython",
    "version": 3
   },
   "file_extension": ".py",
   "mimetype": "text/x-python",
   "name": "python",
   "nbconvert_exporter": "python",
   "pygments_lexer": "ipython3",
   "version": "3.12.0"
  }
 },
 "nbformat": 4,
 "nbformat_minor": 2
}
